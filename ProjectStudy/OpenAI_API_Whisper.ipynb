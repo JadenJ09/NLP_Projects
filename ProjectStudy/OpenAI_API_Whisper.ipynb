{
 "cells": [
  {
   "cell_type": "code",
   "execution_count": 25,
   "metadata": {},
   "outputs": [],
   "source": [
    "import openai"
   ]
  },
  {
   "cell_type": "code",
   "execution_count": 26,
   "metadata": {},
   "outputs": [],
   "source": [
    "from getpass import getpass\n",
    "from keys import openai_api_key, google_api_key, googe_cx\n",
    "openai.api_key = openai_api_key"
   ]
  },
  {
   "cell_type": "code",
   "execution_count": 3,
   "metadata": {},
   "outputs": [
    {
     "name": "stderr",
     "output_type": "stream",
     "text": [
      "\n",
      "[notice] A new release of pip is available: 23.1 -> 23.1.2\n",
      "[notice] To update, run: python.exe -m pip install --upgrade pip\n"
     ]
    }
   ],
   "source": [
    "!pip install git+https://github.com/openai/whisper.git -q"
   ]
  },
  {
   "cell_type": "code",
   "execution_count": 4,
   "metadata": {},
   "outputs": [
    {
     "name": "stdout",
     "output_type": "stream",
     "text": [
      "Requirement already satisfied: pip in c:\\users\\jaden\\onedrive\\coding\\program\\python 3.11\\lib\\site-packages (23.1)\n",
      "Collecting pip\n",
      "  Downloading pip-23.1.2-py3-none-any.whl (2.1 MB)\n",
      "                                              0.0/2.1 MB ? eta -:--:--\n",
      "     ------                                   0.3/2.1 MB 9.9 MB/s eta 0:00:01\n",
      "     ---------------------------------------  2.1/2.1 MB 25.9 MB/s eta 0:00:01\n",
      "     ---------------------------------------- 2.1/2.1 MB 21.9 MB/s eta 0:00:00\n"
     ]
    },
    {
     "name": "stderr",
     "output_type": "stream",
     "text": [
      "ERROR: To modify pip, please run the following command:\n",
      "C:\\Users\\jaden\\OneDrive\\Coding\\Program\\Python 3.11\\python.exe -m pip install --upgrade pip\n",
      "\n",
      "[notice] A new release of pip is available: 23.1 -> 23.1.2\n",
      "[notice] To update, run: python.exe -m pip install --upgrade pip\n"
     ]
    }
   ],
   "source": [
    "!pip install --upgrade pip"
   ]
  },
  {
   "cell_type": "code",
   "execution_count": 27,
   "metadata": {},
   "outputs": [
    {
     "name": "stdout",
     "output_type": "stream",
     "text": [
      "GPU 0: NVIDIA GeForce RTX 3070 Ti Laptop GPU (UUID: GPU-07a39051-b150-bc9a-e063-fc495a6a6eaf)\n"
     ]
    }
   ],
   "source": [
    "!nvidia-smi -L"
   ]
  },
  {
   "cell_type": "code",
   "execution_count": 10,
   "metadata": {},
   "outputs": [
    {
     "name": "stderr",
     "output_type": "stream",
     "text": [
      "\n",
      "[notice] A new release of pip is available: 23.1 -> 23.1.2\n",
      "[notice] To update, run: python.exe -m pip install --upgrade pip\n"
     ]
    }
   ],
   "source": [
    "!pip install pytube -q"
   ]
  },
  {
   "cell_type": "code",
   "execution_count": 15,
   "metadata": {},
   "outputs": [
    {
     "name": "stdout",
     "output_type": "stream",
     "text": [
      "Requirement already satisfied: pytube in c:\\users\\jaden\\onedrive\\coding\\program\\python 3.11\\lib\\site-packages (12.1.3)\n",
      "Collecting pytube\n",
      "  Downloading pytube-15.0.0-py3-none-any.whl (57 kB)\n",
      "                                              0.0/57.6 kB ? eta -:--:--\n",
      "     ---------------------------------------- 57.6/57.6 kB 3.0 MB/s eta 0:00:00\n",
      "Installing collected packages: pytube\n",
      "  Attempting uninstall: pytube\n",
      "    Found existing installation: pytube 12.1.3\n",
      "    Uninstalling pytube-12.1.3:\n",
      "      Successfully uninstalled pytube-12.1.3\n",
      "Successfully installed pytube-15.0.0\n"
     ]
    },
    {
     "name": "stderr",
     "output_type": "stream",
     "text": [
      "\n",
      "[notice] A new release of pip is available: 23.1 -> 23.1.2\n",
      "[notice] To update, run: python.exe -m pip install --upgrade pip\n"
     ]
    }
   ],
   "source": [
    "!pip install --upgrade pytube"
   ]
  },
  {
   "cell_type": "code",
   "execution_count": 28,
   "metadata": {},
   "outputs": [],
   "source": [
    "import whisper\n",
    "from pytube import YouTube"
   ]
  },
  {
   "cell_type": "code",
   "execution_count": 29,
   "metadata": {},
   "outputs": [],
   "source": [
    "model = whisper.load_model('base')"
   ]
  },
  {
   "cell_type": "code",
   "execution_count": 20,
   "metadata": {},
   "outputs": [
    {
     "ename": "KeyError",
     "evalue": "'bitrate'",
     "output_type": "error",
     "traceback": [
      "\u001b[1;31m---------------------------------------------------------------------------\u001b[0m",
      "\u001b[1;31mKeyError\u001b[0m                                  Traceback (most recent call last)",
      "Cell \u001b[1;32mIn[20], line 6\u001b[0m\n\u001b[0;32m      4\u001b[0m \u001b[39m# Download the audio file from YouTube\u001b[39;00m\n\u001b[0;32m      5\u001b[0m yt \u001b[39m=\u001b[39m YouTube(\u001b[39m\"\u001b[39m\u001b[39mhttps://www.youtube.com/watch?v=rcaogYUmCPk\u001b[39m\u001b[39m\"\u001b[39m)\n\u001b[1;32m----> 6\u001b[0m yt\u001b[39m.\u001b[39;49mstreams\u001b[39m.\u001b[39mfilter(only_audio\u001b[39m=\u001b[39m\u001b[39mTrue\u001b[39;00m)\u001b[39m.\u001b[39mfirst()\u001b[39m.\u001b[39mdownload(filename\u001b[39m=\u001b[39m\u001b[39m\"\u001b[39m\u001b[39maudio\u001b[39m\u001b[39m\"\u001b[39m)\n\u001b[0;32m      8\u001b[0m \u001b[39m# Load the audio file\u001b[39;00m\n\u001b[0;32m      9\u001b[0m audio \u001b[39m=\u001b[39m AudioFileClip(\u001b[39m\"\u001b[39m\u001b[39maudio.mp4\u001b[39m\u001b[39m\"\u001b[39m)\n",
      "File \u001b[1;32mc:\\Users\\jaden\\OneDrive\\Coding\\Program\\Python 3.11\\Lib\\site-packages\\pytube\\__main__.py:296\u001b[0m, in \u001b[0;36mYouTube.streams\u001b[1;34m(self)\u001b[0m\n\u001b[0;32m    291\u001b[0m \u001b[39m\u001b[39m\u001b[39m\"\"\"Interface to query both adaptive (DASH) and progressive streams.\u001b[39;00m\n\u001b[0;32m    292\u001b[0m \n\u001b[0;32m    293\u001b[0m \u001b[39m:rtype: :class:`StreamQuery <StreamQuery>`.\u001b[39;00m\n\u001b[0;32m    294\u001b[0m \u001b[39m\"\"\"\u001b[39;00m\n\u001b[0;32m    295\u001b[0m \u001b[39mself\u001b[39m\u001b[39m.\u001b[39mcheck_availability()\n\u001b[1;32m--> 296\u001b[0m \u001b[39mreturn\u001b[39;00m StreamQuery(\u001b[39mself\u001b[39;49m\u001b[39m.\u001b[39;49mfmt_streams)\n",
      "File \u001b[1;32mc:\\Users\\jaden\\OneDrive\\Coding\\Program\\Python 3.11\\Lib\\site-packages\\pytube\\__main__.py:193\u001b[0m, in \u001b[0;36mYouTube.fmt_streams\u001b[1;34m(self)\u001b[0m\n\u001b[0;32m    190\u001b[0m \u001b[39m# build instances of :class:`Stream <Stream>`\u001b[39;00m\n\u001b[0;32m    191\u001b[0m \u001b[39m# Initialize stream objects\u001b[39;00m\n\u001b[0;32m    192\u001b[0m \u001b[39mfor\u001b[39;00m stream \u001b[39min\u001b[39;00m stream_manifest:\n\u001b[1;32m--> 193\u001b[0m     video \u001b[39m=\u001b[39m Stream(\n\u001b[0;32m    194\u001b[0m         stream\u001b[39m=\u001b[39;49mstream,\n\u001b[0;32m    195\u001b[0m         monostate\u001b[39m=\u001b[39;49m\u001b[39mself\u001b[39;49m\u001b[39m.\u001b[39;49mstream_monostate,\n\u001b[0;32m    196\u001b[0m     )\n\u001b[0;32m    197\u001b[0m     \u001b[39mself\u001b[39m\u001b[39m.\u001b[39m_fmt_streams\u001b[39m.\u001b[39mappend(video)\n\u001b[0;32m    199\u001b[0m \u001b[39mself\u001b[39m\u001b[39m.\u001b[39mstream_monostate\u001b[39m.\u001b[39mtitle \u001b[39m=\u001b[39m \u001b[39mself\u001b[39m\u001b[39m.\u001b[39mtitle\n",
      "File \u001b[1;32mc:\\Users\\jaden\\OneDrive\\Coding\\Program\\Python 3.11\\Lib\\site-packages\\pytube\\streams.py:62\u001b[0m, in \u001b[0;36mStream.__init__\u001b[1;34m(self, stream, monostate)\u001b[0m\n\u001b[0;32m     59\u001b[0m \u001b[39mself\u001b[39m\u001b[39m.\u001b[39mvideo_codec, \u001b[39mself\u001b[39m\u001b[39m.\u001b[39maudio_codec \u001b[39m=\u001b[39m \u001b[39mself\u001b[39m\u001b[39m.\u001b[39mparse_codecs()\n\u001b[0;32m     61\u001b[0m \u001b[39mself\u001b[39m\u001b[39m.\u001b[39mis_otf: \u001b[39mbool\u001b[39m \u001b[39m=\u001b[39m stream[\u001b[39m\"\u001b[39m\u001b[39mis_otf\u001b[39m\u001b[39m\"\u001b[39m]\n\u001b[1;32m---> 62\u001b[0m \u001b[39mself\u001b[39m\u001b[39m.\u001b[39mbitrate: Optional[\u001b[39mint\u001b[39m] \u001b[39m=\u001b[39m stream[\u001b[39m\"\u001b[39;49m\u001b[39mbitrate\u001b[39;49m\u001b[39m\"\u001b[39;49m]\n\u001b[0;32m     64\u001b[0m \u001b[39m# filesize in bytes\u001b[39;00m\n\u001b[0;32m     65\u001b[0m \u001b[39mself\u001b[39m\u001b[39m.\u001b[39m_filesize: Optional[\u001b[39mint\u001b[39m] \u001b[39m=\u001b[39m \u001b[39mint\u001b[39m(stream\u001b[39m.\u001b[39mget(\u001b[39m'\u001b[39m\u001b[39mcontentLength\u001b[39m\u001b[39m'\u001b[39m, \u001b[39m0\u001b[39m))\n",
      "\u001b[1;31mKeyError\u001b[0m: 'bitrate'"
     ]
    }
   ],
   "source": [
    "from pytube import YouTube\n",
    "from moviepy.editor import AudioFileClip\n",
    "\n",
    "# Download the audio file from YouTube\n",
    "yt = YouTube(\"https://www.youtube.com/watch?v=rcaogYUmCPk\")\n",
    "yt.streams.filter(only_audio=True).first().download(filename=\"audio\")\n",
    "\n",
    "# Load the audio file\n",
    "audio = AudioFileClip(\"audio.mp4\")\n",
    "\n",
    "# Extract the portion from 3:00:00 to 3:50:00 (times are in seconds)\n",
    "audio_subclip = audio.subclip(3*60*60, 3*60*60 + 50*60)\n",
    "\n",
    "# Write the result to a file\n",
    "audio_subclip.write_audiofile(\"output.mp3\")\n"
   ]
  },
  {
   "cell_type": "code",
   "execution_count": 32,
   "metadata": {},
   "outputs": [
    {
     "ename": "KeyError",
     "evalue": "'bitrate'",
     "output_type": "error",
     "traceback": [
      "\u001b[1;31m---------------------------------------------------------------------------\u001b[0m",
      "\u001b[1;31mKeyError\u001b[0m                                  Traceback (most recent call last)",
      "Cell \u001b[1;32mIn[32], line 14\u001b[0m\n\u001b[0;32m     12\u001b[0m \u001b[39m# download the video\u001b[39;00m\n\u001b[0;32m     13\u001b[0m yt \u001b[39m=\u001b[39m YouTube(url)\n\u001b[1;32m---> 14\u001b[0m stream \u001b[39m=\u001b[39m yt\u001b[39m.\u001b[39;49mstreams\u001b[39m.\u001b[39mfilter(only_audio\u001b[39m=\u001b[39m\u001b[39mTrue\u001b[39;00m)\u001b[39m.\u001b[39mfirst()\n\u001b[0;32m     15\u001b[0m filename \u001b[39m=\u001b[39m stream\u001b[39m.\u001b[39mdefault_filename\n\u001b[0;32m     16\u001b[0m stream\u001b[39m.\u001b[39mdownload(filename\u001b[39m=\u001b[39mfilename)\n",
      "File \u001b[1;32mc:\\Users\\jaden\\OneDrive\\Coding\\Program\\Python 3.11\\Lib\\site-packages\\pytube\\__main__.py:296\u001b[0m, in \u001b[0;36mYouTube.streams\u001b[1;34m(self)\u001b[0m\n\u001b[0;32m    291\u001b[0m \u001b[39m\u001b[39m\u001b[39m\"\"\"Interface to query both adaptive (DASH) and progressive streams.\u001b[39;00m\n\u001b[0;32m    292\u001b[0m \n\u001b[0;32m    293\u001b[0m \u001b[39m:rtype: :class:`StreamQuery <StreamQuery>`.\u001b[39;00m\n\u001b[0;32m    294\u001b[0m \u001b[39m\"\"\"\u001b[39;00m\n\u001b[0;32m    295\u001b[0m \u001b[39mself\u001b[39m\u001b[39m.\u001b[39mcheck_availability()\n\u001b[1;32m--> 296\u001b[0m \u001b[39mreturn\u001b[39;00m StreamQuery(\u001b[39mself\u001b[39;49m\u001b[39m.\u001b[39;49mfmt_streams)\n",
      "File \u001b[1;32mc:\\Users\\jaden\\OneDrive\\Coding\\Program\\Python 3.11\\Lib\\site-packages\\pytube\\__main__.py:193\u001b[0m, in \u001b[0;36mYouTube.fmt_streams\u001b[1;34m(self)\u001b[0m\n\u001b[0;32m    190\u001b[0m \u001b[39m# build instances of :class:`Stream <Stream>`\u001b[39;00m\n\u001b[0;32m    191\u001b[0m \u001b[39m# Initialize stream objects\u001b[39;00m\n\u001b[0;32m    192\u001b[0m \u001b[39mfor\u001b[39;00m stream \u001b[39min\u001b[39;00m stream_manifest:\n\u001b[1;32m--> 193\u001b[0m     video \u001b[39m=\u001b[39m Stream(\n\u001b[0;32m    194\u001b[0m         stream\u001b[39m=\u001b[39;49mstream,\n\u001b[0;32m    195\u001b[0m         monostate\u001b[39m=\u001b[39;49m\u001b[39mself\u001b[39;49m\u001b[39m.\u001b[39;49mstream_monostate,\n\u001b[0;32m    196\u001b[0m     )\n\u001b[0;32m    197\u001b[0m     \u001b[39mself\u001b[39m\u001b[39m.\u001b[39m_fmt_streams\u001b[39m.\u001b[39mappend(video)\n\u001b[0;32m    199\u001b[0m \u001b[39mself\u001b[39m\u001b[39m.\u001b[39mstream_monostate\u001b[39m.\u001b[39mtitle \u001b[39m=\u001b[39m \u001b[39mself\u001b[39m\u001b[39m.\u001b[39mtitle\n",
      "File \u001b[1;32mc:\\Users\\jaden\\OneDrive\\Coding\\Program\\Python 3.11\\Lib\\site-packages\\pytube\\streams.py:62\u001b[0m, in \u001b[0;36mStream.__init__\u001b[1;34m(self, stream, monostate)\u001b[0m\n\u001b[0;32m     59\u001b[0m \u001b[39mself\u001b[39m\u001b[39m.\u001b[39mvideo_codec, \u001b[39mself\u001b[39m\u001b[39m.\u001b[39maudio_codec \u001b[39m=\u001b[39m \u001b[39mself\u001b[39m\u001b[39m.\u001b[39mparse_codecs()\n\u001b[0;32m     61\u001b[0m \u001b[39mself\u001b[39m\u001b[39m.\u001b[39mis_otf: \u001b[39mbool\u001b[39m \u001b[39m=\u001b[39m stream[\u001b[39m\"\u001b[39m\u001b[39mis_otf\u001b[39m\u001b[39m\"\u001b[39m]\n\u001b[1;32m---> 62\u001b[0m \u001b[39mself\u001b[39m\u001b[39m.\u001b[39mbitrate: Optional[\u001b[39mint\u001b[39m] \u001b[39m=\u001b[39m stream[\u001b[39m\"\u001b[39;49m\u001b[39mbitrate\u001b[39;49m\u001b[39m\"\u001b[39;49m]\n\u001b[0;32m     64\u001b[0m \u001b[39m# filesize in bytes\u001b[39;00m\n\u001b[0;32m     65\u001b[0m \u001b[39mself\u001b[39m\u001b[39m.\u001b[39m_filesize: Optional[\u001b[39mint\u001b[39m] \u001b[39m=\u001b[39m \u001b[39mint\u001b[39m(stream\u001b[39m.\u001b[39mget(\u001b[39m'\u001b[39m\u001b[39mcontentLength\u001b[39m\u001b[39m'\u001b[39m, \u001b[39m0\u001b[39m))\n",
      "\u001b[1;31mKeyError\u001b[0m: 'bitrate'"
     ]
    }
   ],
   "source": [
    "from pytube import YouTube\n",
    "from moviepy.video.io.ffmpeg_tools import ffmpeg_extract_subclip\n",
    "import os\n",
    "\n",
    "# the start and end times in seconds\n",
    "start_time = 3 * 60 * 60  # 3 hours\n",
    "end_time = 3 * 60 * 60 + 50 * 60  # 3 hours and 50 minutes\n",
    "\n",
    "# the url of the YouTube video\n",
    "url = \"https://www.youtube.com/watch?v=rcaogYUmCPk\"\n",
    "\n",
    "# download the video\n",
    "yt = YouTube(url)\n",
    "stream = yt.streams.filter(only_audio=True).first()\n",
    "filename = stream.default_filename\n",
    "stream.download(filename=filename)\n",
    "\n",
    "# cut the video\n",
    "ffmpeg_extract_subclip(filename, start_time, end_time, targetname=\"output.mp4\")\n",
    "\n",
    "# delete the original downloaded file\n",
    "os.remove(filename)\n"
   ]
  },
  {
   "cell_type": "code",
   "execution_count": 9,
   "metadata": {},
   "outputs": [
    {
     "data": {
      "text/plain": [
       "['__class__',\n",
       " '__delattr__',\n",
       " '__dict__',\n",
       " '__dir__',\n",
       " '__doc__',\n",
       " '__eq__',\n",
       " '__format__',\n",
       " '__ge__',\n",
       " '__getattribute__',\n",
       " '__getstate__',\n",
       " '__gt__',\n",
       " '__hash__',\n",
       " '__init__',\n",
       " '__init_subclass__',\n",
       " '__le__',\n",
       " '__lt__',\n",
       " '__module__',\n",
       " '__ne__',\n",
       " '__new__',\n",
       " '__reduce__',\n",
       " '__reduce_ex__',\n",
       " '__repr__',\n",
       " '__setattr__',\n",
       " '__sizeof__',\n",
       " '__str__',\n",
       " '__subclasshook__',\n",
       " '__weakref__',\n",
       " '_age_restricted',\n",
       " '_author',\n",
       " '_embed_html',\n",
       " '_fmt_streams',\n",
       " '_initial_data',\n",
       " '_js',\n",
       " '_js_url',\n",
       " '_metadata',\n",
       " '_player_config_args',\n",
       " '_publish_date',\n",
       " '_title',\n",
       " '_vid_info',\n",
       " '_watch_html',\n",
       " 'age_restricted',\n",
       " 'allow_oauth_cache',\n",
       " 'author',\n",
       " 'bypass_age_gate',\n",
       " 'caption_tracks',\n",
       " 'captions',\n",
       " 'channel_id',\n",
       " 'channel_url',\n",
       " 'check_availability',\n",
       " 'description',\n",
       " 'embed_html',\n",
       " 'embed_url',\n",
       " 'fmt_streams',\n",
       " 'from_id',\n",
       " 'initial_data',\n",
       " 'js',\n",
       " 'js_url',\n",
       " 'keywords',\n",
       " 'length',\n",
       " 'metadata',\n",
       " 'publish_date',\n",
       " 'rating',\n",
       " 'register_on_complete_callback',\n",
       " 'register_on_progress_callback',\n",
       " 'stream_monostate',\n",
       " 'streaming_data',\n",
       " 'streams',\n",
       " 'thumbnail_url',\n",
       " 'title',\n",
       " 'use_oauth',\n",
       " 'vid_info',\n",
       " 'video_id',\n",
       " 'views',\n",
       " 'watch_html',\n",
       " 'watch_url']"
      ]
     },
     "execution_count": 9,
     "metadata": {},
     "output_type": "execute_result"
    }
   ],
   "source": [
    "dir(youtube_video)"
   ]
  },
  {
   "cell_type": "code",
   "execution_count": 11,
   "metadata": {},
   "outputs": [
    {
     "data": {
      "text/plain": [
       "'Thomas Laubach Research Conference May 19, 2023'"
      ]
     },
     "execution_count": 11,
     "metadata": {},
     "output_type": "execute_result"
    }
   ],
   "source": [
    "youtube_video.title\n"
   ]
  },
  {
   "cell_type": "code",
   "execution_count": 14,
   "metadata": {},
   "outputs": [
    {
     "data": {
      "text/plain": [
       "[<Stream: itag=\"137\" mime_type=\"video/mp4\" res=\"1080p\" fps=\"30fps\" vcodec=\"avc1.640028\" progressive=\"False\" type=\"video\">, <Stream: itag=\"248\" mime_type=\"video/webm\" res=\"1080p\" fps=\"30fps\" vcodec=\"vp9\" progressive=\"False\" type=\"video\">, <Stream: itag=\"136\" mime_type=\"video/mp4\" res=\"720p\" fps=\"30fps\" vcodec=\"avc1.4d401f\" progressive=\"False\" type=\"video\">, <Stream: itag=\"247\" mime_type=\"video/webm\" res=\"720p\" fps=\"30fps\" vcodec=\"vp9\" progressive=\"False\" type=\"video\">, <Stream: itag=\"135\" mime_type=\"video/mp4\" res=\"480p\" fps=\"30fps\" vcodec=\"avc1.4d401f\" progressive=\"False\" type=\"video\">, <Stream: itag=\"244\" mime_type=\"video/webm\" res=\"480p\" fps=\"30fps\" vcodec=\"vp9\" progressive=\"False\" type=\"video\">, <Stream: itag=\"134\" mime_type=\"video/mp4\" res=\"360p\" fps=\"30fps\" vcodec=\"avc1.4d401e\" progressive=\"False\" type=\"video\">, <Stream: itag=\"243\" mime_type=\"video/webm\" res=\"360p\" fps=\"30fps\" vcodec=\"vp9\" progressive=\"False\" type=\"video\">, <Stream: itag=\"133\" mime_type=\"video/mp4\" res=\"240p\" fps=\"30fps\" vcodec=\"avc1.4d4015\" progressive=\"False\" type=\"video\">, <Stream: itag=\"242\" mime_type=\"video/webm\" res=\"240p\" fps=\"30fps\" vcodec=\"vp9\" progressive=\"False\" type=\"video\">, <Stream: itag=\"160\" mime_type=\"video/mp4\" res=\"144p\" fps=\"15fps\" vcodec=\"avc1.42c00b\" progressive=\"False\" type=\"video\">, <Stream: itag=\"278\" mime_type=\"video/webm\" res=\"144p\" fps=\"30fps\" vcodec=\"vp9\" progressive=\"False\" type=\"video\">, <Stream: itag=\"139\" mime_type=\"audio/mp4\" abr=\"48kbps\" acodec=\"mp4a.40.5\" progressive=\"False\" type=\"audio\">, <Stream: itag=\"140\" mime_type=\"audio/mp4\" abr=\"128kbps\" acodec=\"mp4a.40.2\" progressive=\"False\" type=\"audio\">]"
      ]
     },
     "execution_count": 14,
     "metadata": {},
     "output_type": "execute_result"
    }
   ],
   "source": [
    "youtube_video.streams"
   ]
  },
  {
   "cell_type": "code",
   "execution_count": 15,
   "metadata": {},
   "outputs": [
    {
     "name": "stdout",
     "output_type": "stream",
     "text": [
      "<Stream: itag=\"137\" mime_type=\"video/mp4\" res=\"1080p\" fps=\"30fps\" vcodec=\"avc1.640028\" progressive=\"False\" type=\"video\">\n",
      "<Stream: itag=\"248\" mime_type=\"video/webm\" res=\"1080p\" fps=\"30fps\" vcodec=\"vp9\" progressive=\"False\" type=\"video\">\n",
      "<Stream: itag=\"136\" mime_type=\"video/mp4\" res=\"720p\" fps=\"30fps\" vcodec=\"avc1.4d401f\" progressive=\"False\" type=\"video\">\n",
      "<Stream: itag=\"247\" mime_type=\"video/webm\" res=\"720p\" fps=\"30fps\" vcodec=\"vp9\" progressive=\"False\" type=\"video\">\n",
      "<Stream: itag=\"135\" mime_type=\"video/mp4\" res=\"480p\" fps=\"30fps\" vcodec=\"avc1.4d401f\" progressive=\"False\" type=\"video\">\n",
      "<Stream: itag=\"244\" mime_type=\"video/webm\" res=\"480p\" fps=\"30fps\" vcodec=\"vp9\" progressive=\"False\" type=\"video\">\n",
      "<Stream: itag=\"134\" mime_type=\"video/mp4\" res=\"360p\" fps=\"30fps\" vcodec=\"avc1.4d401e\" progressive=\"False\" type=\"video\">\n",
      "<Stream: itag=\"243\" mime_type=\"video/webm\" res=\"360p\" fps=\"30fps\" vcodec=\"vp9\" progressive=\"False\" type=\"video\">\n",
      "<Stream: itag=\"133\" mime_type=\"video/mp4\" res=\"240p\" fps=\"30fps\" vcodec=\"avc1.4d4015\" progressive=\"False\" type=\"video\">\n",
      "<Stream: itag=\"242\" mime_type=\"video/webm\" res=\"240p\" fps=\"30fps\" vcodec=\"vp9\" progressive=\"False\" type=\"video\">\n",
      "<Stream: itag=\"160\" mime_type=\"video/mp4\" res=\"144p\" fps=\"15fps\" vcodec=\"avc1.42c00b\" progressive=\"False\" type=\"video\">\n",
      "<Stream: itag=\"278\" mime_type=\"video/webm\" res=\"144p\" fps=\"30fps\" vcodec=\"vp9\" progressive=\"False\" type=\"video\">\n",
      "<Stream: itag=\"139\" mime_type=\"audio/mp4\" abr=\"48kbps\" acodec=\"mp4a.40.5\" progressive=\"False\" type=\"audio\">\n",
      "<Stream: itag=\"140\" mime_type=\"audio/mp4\" abr=\"128kbps\" acodec=\"mp4a.40.2\" progressive=\"False\" type=\"audio\">\n"
     ]
    }
   ],
   "source": [
    "for stream in youtube_video.streams:\n",
    "  print(stream)"
   ]
  },
  {
   "cell_type": "code",
   "execution_count": 16,
   "metadata": {},
   "outputs": [
    {
     "data": {
      "text/plain": [
       "[<Stream: itag=\"139\" mime_type=\"audio/mp4\" abr=\"48kbps\" acodec=\"mp4a.40.5\" progressive=\"False\" type=\"audio\">, <Stream: itag=\"140\" mime_type=\"audio/mp4\" abr=\"128kbps\" acodec=\"mp4a.40.2\" progressive=\"False\" type=\"audio\">]"
      ]
     },
     "execution_count": 16,
     "metadata": {},
     "output_type": "execute_result"
    }
   ],
   "source": [
    "streams = youtube_video.streams.filter(only_audio=True)\n",
    "streams\n"
   ]
  },
  {
   "cell_type": "code",
   "execution_count": 17,
   "metadata": {},
   "outputs": [
    {
     "data": {
      "text/plain": [
       "<Stream: itag=\"139\" mime_type=\"audio/mp4\" abr=\"48kbps\" acodec=\"mp4a.40.5\" progressive=\"False\" type=\"audio\">"
      ]
     },
     "execution_count": 17,
     "metadata": {},
     "output_type": "execute_result"
    }
   ],
   "source": [
    "stream = streams.first()\n",
    "stream"
   ]
  },
  {
   "cell_type": "code",
   "execution_count": 19,
   "metadata": {},
   "outputs": [
    {
     "ename": "KeyError",
     "evalue": "'content-length'",
     "output_type": "error",
     "traceback": [
      "\u001b[1;31m---------------------------------------------------------------------------\u001b[0m",
      "\u001b[1;31mKeyError\u001b[0m                                  Traceback (most recent call last)",
      "Cell \u001b[1;32mIn[19], line 1\u001b[0m\n\u001b[1;32m----> 1\u001b[0m stream\u001b[39m.\u001b[39;49mdownload(filename\u001b[39m=\u001b[39;49m\u001b[39m'\u001b[39;49m\u001b[39mfed_meeting.mp4\u001b[39;49m\u001b[39m'\u001b[39;49m)\n",
      "File \u001b[1;32mc:\\Users\\jaden\\OneDrive\\Coding\\Program\\Python 3.11\\Lib\\site-packages\\pytube\\streams.py:309\u001b[0m, in \u001b[0;36mStream.download\u001b[1;34m(self, output_path, filename, filename_prefix, skip_existing, timeout, max_retries)\u001b[0m\n\u001b[0;32m    306\u001b[0m     \u001b[39mself\u001b[39m\u001b[39m.\u001b[39mon_complete(file_path)\n\u001b[0;32m    307\u001b[0m     \u001b[39mreturn\u001b[39;00m file_path\n\u001b[1;32m--> 309\u001b[0m bytes_remaining \u001b[39m=\u001b[39m \u001b[39mself\u001b[39;49m\u001b[39m.\u001b[39;49mfilesize\n\u001b[0;32m    310\u001b[0m logger\u001b[39m.\u001b[39mdebug(\u001b[39mf\u001b[39m\u001b[39m'\u001b[39m\u001b[39mdownloading (\u001b[39m\u001b[39m{\u001b[39;00m\u001b[39mself\u001b[39m\u001b[39m.\u001b[39mfilesize\u001b[39m}\u001b[39;00m\u001b[39m total bytes) file to \u001b[39m\u001b[39m{\u001b[39;00mfile_path\u001b[39m}\u001b[39;00m\u001b[39m'\u001b[39m)\n\u001b[0;32m    312\u001b[0m \u001b[39mwith\u001b[39;00m \u001b[39mopen\u001b[39m(file_path, \u001b[39m\"\u001b[39m\u001b[39mwb\u001b[39m\u001b[39m\"\u001b[39m) \u001b[39mas\u001b[39;00m fh:\n",
      "File \u001b[1;32mc:\\Users\\jaden\\OneDrive\\Coding\\Program\\Python 3.11\\Lib\\site-packages\\pytube\\streams.py:157\u001b[0m, in \u001b[0;36mStream.filesize\u001b[1;34m(self)\u001b[0m\n\u001b[0;32m    155\u001b[0m \u001b[39mif\u001b[39;00m \u001b[39mself\u001b[39m\u001b[39m.\u001b[39m_filesize \u001b[39m==\u001b[39m \u001b[39m0\u001b[39m:\n\u001b[0;32m    156\u001b[0m     \u001b[39mtry\u001b[39;00m:\n\u001b[1;32m--> 157\u001b[0m         \u001b[39mself\u001b[39m\u001b[39m.\u001b[39m_filesize \u001b[39m=\u001b[39m request\u001b[39m.\u001b[39;49mfilesize(\u001b[39mself\u001b[39;49m\u001b[39m.\u001b[39;49murl)\n\u001b[0;32m    158\u001b[0m     \u001b[39mexcept\u001b[39;00m HTTPError \u001b[39mas\u001b[39;00m e:\n\u001b[0;32m    159\u001b[0m         \u001b[39mif\u001b[39;00m e\u001b[39m.\u001b[39mcode \u001b[39m!=\u001b[39m \u001b[39m404\u001b[39m:\n",
      "File \u001b[1;32mc:\\Users\\jaden\\OneDrive\\Coding\\Program\\Python 3.11\\Lib\\site-packages\\pytube\\request.py:204\u001b[0m, in \u001b[0;36mfilesize\u001b[1;34m(url)\u001b[0m\n\u001b[0;32m    197\u001b[0m \u001b[39m@lru_cache\u001b[39m()\n\u001b[0;32m    198\u001b[0m \u001b[39mdef\u001b[39;00m \u001b[39mfilesize\u001b[39m(url):\n\u001b[0;32m    199\u001b[0m \u001b[39m    \u001b[39m\u001b[39m\"\"\"Fetch size in bytes of file at given URL\u001b[39;00m\n\u001b[0;32m    200\u001b[0m \n\u001b[0;32m    201\u001b[0m \u001b[39m    :param str url: The URL to get the size of\u001b[39;00m\n\u001b[0;32m    202\u001b[0m \u001b[39m    :returns: int: size in bytes of remote file\u001b[39;00m\n\u001b[0;32m    203\u001b[0m \u001b[39m    \"\"\"\u001b[39;00m\n\u001b[1;32m--> 204\u001b[0m     \u001b[39mreturn\u001b[39;00m \u001b[39mint\u001b[39m(head(url)[\u001b[39m\"\u001b[39;49m\u001b[39mcontent-length\u001b[39;49m\u001b[39m\"\u001b[39;49m])\n",
      "\u001b[1;31mKeyError\u001b[0m: 'content-length'"
     ]
    }
   ],
   "source": [
    "stream.download(filename='fed_meeting.mp4')"
   ]
  },
  {
   "cell_type": "code",
   "execution_count": 1,
   "metadata": {},
   "outputs": [
    {
     "name": "stderr",
     "output_type": "stream",
     "text": [
      "ffmpeg version N-110228-g4dffa564d1-20230411 Copyright (c) 2000-2023 the FFmpeg developers\n",
      "  built with gcc 12.2.0 (crosstool-NG 1.25.0.152_89671bf)\n",
      "  configuration: --prefix=/ffbuild/prefix --pkg-config-flags=--static --pkg-config=pkg-config --cross-prefix=x86_64-w64-mingw32- --arch=x86_64 --target-os=mingw32 --enable-gpl --enable-version3 --disable-debug --disable-w32threads --enable-pthreads --enable-iconv --enable-libxml2 --enable-zlib --enable-libfreetype --enable-libfribidi --enable-gmp --enable-lzma --enable-fontconfig --enable-libvorbis --enable-opencl --disable-libpulse --enable-libvmaf --disable-libxcb --disable-xlib --enable-amf --enable-libaom --enable-libaribb24 --enable-avisynth --enable-chromaprint --enable-libdav1d --enable-libdavs2 --disable-libfdk-aac --enable-ffnvcodec --enable-cuda-llvm --enable-frei0r --enable-libgme --enable-libkvazaar --enable-libass --enable-libbluray --enable-libjxl --enable-libmp3lame --enable-libopus --enable-librist --enable-libssh --enable-libtheora --enable-libvpx --enable-libwebp --enable-lv2 --disable-libmfx --enable-libvpl --enable-openal --enable-libopencore-amrnb --enable-libopencore-amrwb --enable-libopenh264 --enable-libopenjpeg --enable-libopenmpt --enable-librav1e --enable-librubberband --enable-schannel --enable-sdl2 --enable-libsoxr --enable-libsrt --enable-libsvtav1 --enable-libtwolame --enable-libuavs3d --disable-libdrm --disable-vaapi --enable-libvidstab --enable-vulkan --enable-libshaderc --enable-libplacebo --enable-libx264 --enable-libx265 --enable-libxavs2 --enable-libxvid --enable-libzimg --enable-libzvbi --extra-cflags=-DLIBTWOLAME_STATIC --extra-cxxflags= --extra-ldflags=-pthread --extra-ldexeflags= --extra-libs=-lgomp --extra-version=20230411\n",
      "  libavutil      58.  6.100 / 58.  6.100\n",
      "  libavcodec     60.  9.100 / 60.  9.100\n",
      "  libavformat    60.  4.101 / 60.  4.101\n",
      "  libavdevice    60.  2.100 / 60.  2.100\n",
      "  libavfilter     9.  5.100 /  9.  5.100\n",
      "  libswscale      7.  2.100 /  7.  2.100\n",
      "  libswresample   4. 11.100 /  4. 11.100\n",
      "  libpostproc    57.  2.100 / 57.  2.100\n",
      "Input #0, mov,mp4,m4a,3gp,3g2,mj2, from 'fed_meeting.mp4':\n",
      "  Metadata:\n",
      "    major_brand     : dash\n",
      "    minor_version   : 0\n",
      "    compatible_brands: iso6mp41\n",
      "    creation_time   : 2022-11-05T10:36:04.000000Z\n",
      "  Duration: 01:00:53.85, start: 0.000000, bitrate: 48 kb/s\n",
      "  Stream #0:0[0x1](eng): Audio: aac (HE-AAC) (mp4a / 0x6134706D), 44100 Hz, stereo, fltp, 0 kb/s (default)\n",
      "    Metadata:\n",
      "      creation_time   : 2022-11-05T10:36:04.000000Z\n",
      "      handler_name    : ISO Media file produced by Google Inc.\n",
      "      vendor_id       : [0][0][0][0]\n",
      "Stream mapping:\n",
      "  Stream #0:0 -> #0:0 (aac (native) -> aac (native))\n",
      "Press [q] to stop, [?] for help\n",
      "Output #0, mp4, to 'fed_meeting_trimmed.mp4':\n",
      "  Metadata:\n",
      "    major_brand     : dash\n",
      "    minor_version   : 0\n",
      "    compatible_brands: iso6mp41\n",
      "    encoder         : Lavf60.4.101\n",
      "  Stream #0:0(eng): Audio: aac (LC) (mp4a / 0x6134706D), 44100 Hz, stereo, fltp, 128 kb/s (default)\n",
      "    Metadata:\n",
      "      creation_time   : 2022-11-05T10:36:04.000000Z\n",
      "      handler_name    : ISO Media file produced by Google Inc.\n",
      "      vendor_id       : [0][0][0][0]\n",
      "      encoder         : Lavc60.9.100 aac\n",
      "size=       0kB time=-577014:32:22.77 bitrate=  -0.0kbits/s speed=N/A    \n",
      "size=       0kB time=00:00:12.88 bitrate=   0.0kbits/s speed=25.7x    \n",
      "size=     256kB time=00:00:27.65 bitrate=  75.8kbits/s speed=27.6x    \n",
      "size=     512kB time=00:00:41.81 bitrate= 100.3kbits/s speed=27.8x    \n",
      "size=     768kB time=00:00:56.54 bitrate= 111.3kbits/s speed=28.2x    \n",
      "size=    1024kB time=00:01:12.28 bitrate= 116.1kbits/s speed=28.9x    \n",
      "size=    1280kB time=00:01:28.49 bitrate= 118.5kbits/s speed=29.5x    \n",
      "size=    1536kB time=00:01:41.58 bitrate= 123.9kbits/s speed=  29x    \n",
      "size=    1792kB time=00:01:57.00 bitrate= 125.5kbits/s speed=29.2x    \n",
      "size=    1792kB time=00:02:09.77 bitrate= 113.1kbits/s speed=28.8x    \n",
      "size=    2048kB time=00:02:24.40 bitrate= 116.2kbits/s speed=28.8x    \n",
      "size=    2304kB time=00:02:40.84 bitrate= 117.3kbits/s speed=29.2x    \n",
      "size=    2560kB time=00:02:55.98 bitrate= 119.2kbits/s speed=29.3x    \n",
      "size=    2816kB time=00:03:12.19 bitrate= 120.0kbits/s speed=29.5x    \n",
      "size=    3072kB time=00:03:29.14 bitrate= 120.3kbits/s speed=29.8x    \n",
      "size=    3328kB time=00:03:46.97 bitrate= 120.1kbits/s speed=30.2x    \n",
      "size=    3584kB time=00:04:02.67 bitrate= 121.0kbits/s speed=30.3x    \n",
      "size=    3840kB time=00:04:17.90 bitrate= 122.0kbits/s speed=30.3x    \n",
      "size=    4096kB time=00:04:33.18 bitrate= 122.8kbits/s speed=30.3x    \n",
      "size=    4352kB time=00:04:47.48 bitrate= 124.0kbits/s speed=30.2x    \n",
      "size=    4608kB time=00:05:04.90 bitrate= 123.8kbits/s speed=30.4x    \n",
      "size=    4864kB time=00:05:20.45 bitrate= 124.3kbits/s speed=30.5x    \n",
      "size=    5120kB time=00:05:37.36 bitrate= 124.3kbits/s speed=30.6x    \n",
      "size=    5376kB time=00:05:50.50 bitrate= 125.6kbits/s speed=30.4x    \n",
      "size=    5632kB time=00:06:05.83 bitrate= 126.1kbits/s speed=30.4x    \n",
      "size=    5888kB time=00:06:21.10 bitrate= 126.6kbits/s speed=30.4x    \n",
      "size=    6144kB time=00:06:35.78 bitrate= 127.2kbits/s speed=30.4x    \n",
      "size=    6400kB time=00:06:51.06 bitrate= 127.5kbits/s speed=30.4x    \n",
      "size=    6656kB time=00:07:11.31 bitrate= 126.4kbits/s speed=30.7x    \n",
      "size=    6912kB time=00:07:26.82 bitrate= 126.7kbits/s speed=30.7x    \n",
      "size=    7168kB time=00:07:41.17 bitrate= 127.3kbits/s speed=30.7x    \n",
      "size=    7424kB time=00:07:53.61 bitrate= 128.4kbits/s speed=30.5x    \n",
      "size=    7424kB time=00:08:07.27 bitrate= 124.8kbits/s speed=30.4x    \n",
      "size=    7936kB time=00:08:26.63 bitrate= 128.3kbits/s speed=30.6x    \n",
      "size=    8192kB time=00:08:41.82 bitrate= 128.6kbits/s speed=30.6x    \n",
      "size=    8192kB time=00:08:54.87 bitrate= 125.5kbits/s speed=30.5x    \n",
      "size=    8448kB time=00:09:08.66 bitrate= 126.1kbits/s speed=30.4x    \n",
      "size=    8704kB time=00:09:22.78 bitrate= 126.7kbits/s speed=30.4x    \n",
      "size=    8960kB time=00:09:35.69 bitrate= 127.5kbits/s speed=30.2x    \n",
      "size=    9216kB time=00:09:49.90 bitrate= 128.0kbits/s speed=30.2x    \n",
      "size=    9472kB time=00:10:01.42 bitrate= 129.0kbits/s speed=  30x    \n",
      "size=    9472kB time=00:10:17.25 bitrate= 125.7kbits/s speed=  30x    \n",
      "size=    9728kB time=00:10:30.02 bitrate= 126.5kbits/s speed=29.9x    \n",
      "size=    9984kB time=00:10:44.14 bitrate= 127.0kbits/s speed=29.9x    \n",
      "size=   10240kB time=00:10:59.42 bitrate= 127.2kbits/s speed=29.9x    \n",
      "size=   10496kB time=00:11:14.88 bitrate= 127.4kbits/s speed=29.9x    \n",
      "size=   10752kB time=00:11:32.62 bitrate= 127.2kbits/s speed=  30x    \n",
      "size=   11008kB time=00:11:47.90 bitrate= 127.4kbits/s speed=30.1x    \n",
      "size=   11264kB time=00:12:02.02 bitrate= 127.8kbits/s speed=  30x    \n",
      "size=   11520kB time=00:12:15.07 bitrate= 128.4kbits/s speed=29.9x    \n",
      "size=   11776kB time=00:12:32.99 bitrate= 128.1kbits/s speed=30.1x    \n",
      "size=   12032kB time=00:12:54.73 bitrate= 127.2kbits/s speed=30.3x    \n",
      "size=   12288kB time=00:13:10.29 bitrate= 127.4kbits/s speed=30.3x    \n",
      "size=   12544kB time=00:13:24.91 bitrate= 127.7kbits/s speed=30.3x    \n",
      "size=   12800kB time=00:13:36.76 bitrate= 128.4kbits/s speed=30.2x    \n",
      "size=   13056kB time=00:13:51.66 bitrate= 128.6kbits/s speed=30.2x    \n",
      "size=   13312kB time=00:14:05.50 bitrate= 129.0kbits/s speed=30.1x    \n",
      "size=   13312kB time=00:14:20.18 bitrate= 126.8kbits/s speed=30.1x    \n",
      "size=   13568kB time=00:14:33.04 bitrate= 127.3kbits/s speed=  30x    \n",
      "size=   13824kB time=00:14:45.30 bitrate= 127.9kbits/s speed=29.9x    \n",
      "size=   14080kB time=00:15:00.81 bitrate= 128.0kbits/s speed=  30x    \n",
      "size=   14336kB time=00:15:16.00 bitrate= 128.2kbits/s speed=  30x    \n",
      "size=   14592kB time=00:15:29.61 bitrate= 128.6kbits/s speed=29.9x    \n",
      "size=   14848kB time=00:15:43.35 bitrate= 128.9kbits/s speed=29.9x    \n",
      "size=   15104kB time=00:15:59.37 bitrate= 129.0kbits/s speed=29.9x    \n",
      "size=   15104kB time=00:16:15.35 bitrate= 126.9kbits/s speed=29.9x    \n",
      "size=   15616kB time=00:16:32.49 bitrate= 128.9kbits/s speed=  30x    \n",
      "size=   15616kB time=00:16:47.81 bitrate= 126.9kbits/s speed=  30x    \n",
      "size=   15872kB time=00:17:01.93 bitrate= 127.2kbits/s speed=  30x    \n",
      "size=   16128kB time=00:17:18.04 bitrate= 127.3kbits/s speed=  30x    \n",
      "size=   16384kB time=00:17:33.55 bitrate= 127.4kbits/s speed=  30x    \n",
      "size=   16640kB time=00:17:49.95 bitrate= 127.4kbits/s speed=30.1x    \n",
      "size=   16896kB time=00:18:06.29 bitrate= 127.4kbits/s speed=30.1x    \n",
      "size=   17152kB time=00:18:21.48 bitrate= 127.6kbits/s speed=30.1x    \n",
      "size=   17408kB time=00:18:36.62 bitrate= 127.7kbits/s speed=30.1x    \n",
      "size=   17664kB time=00:18:50.46 bitrate= 128.0kbits/s speed=30.1x    \n",
      "size=   17920kB time=00:19:07.92 bitrate= 127.9kbits/s speed=30.1x    \n",
      "size=   18176kB time=00:19:23.34 bitrate= 128.0kbits/s speed=30.1x    \n",
      "size=   18432kB time=00:19:37.32 bitrate= 128.3kbits/s speed=30.1x    \n",
      "size=   18688kB time=00:19:52.32 bitrate= 128.4kbits/s speed=30.1x    \n",
      "size=   18944kB time=00:20:08.01 bitrate= 128.5kbits/s speed=30.1x    \n",
      "size=   19200kB time=00:20:25.20 bitrate= 128.4kbits/s speed=30.2x    \n",
      "size=   19456kB time=00:20:41.68 bitrate= 128.4kbits/s speed=30.2x    \n",
      "size=   19712kB time=00:20:59.19 bitrate= 128.2kbits/s speed=30.3x    \n",
      "size=   19968kB time=00:21:14.84 bitrate= 128.3kbits/s speed=30.3x    \n",
      "size=   20224kB time=00:21:29.00 bitrate= 128.5kbits/s speed=30.3x    \n",
      "size=   20480kB time=00:21:43.35 bitrate= 128.7kbits/s speed=30.2x    \n",
      "size=   20736kB time=00:21:58.40 bitrate= 128.8kbits/s speed=30.2x    \n",
      "size=   20992kB time=00:22:14.79 bitrate= 128.8kbits/s speed=30.3x    \n",
      "size=   21248kB time=00:22:30.54 bitrate= 128.9kbits/s speed=30.3x    \n",
      "size=   21504kB time=00:22:47.02 bitrate= 128.9kbits/s speed=30.3x    \n",
      "size=   21760kB time=00:23:04.35 bitrate= 128.8kbits/s speed=30.4x    \n",
      "size=   22016kB time=00:23:20.74 bitrate= 128.8kbits/s speed=30.4x    \n",
      "size=   22016kB time=00:23:33.46 bitrate= 127.6kbits/s speed=30.3x    \n",
      "size=   22272kB time=00:23:46.56 bitrate= 127.9kbits/s speed=30.3x    \n",
      "size=   22528kB time=00:24:00.12 bitrate= 128.1kbits/s speed=30.2x    \n",
      "size=   22784kB time=00:24:13.91 bitrate= 128.4kbits/s speed=30.2x    \n",
      "size=   23040kB time=00:24:26.40 bitrate= 128.7kbits/s speed=30.2x    \n",
      "size=   23296kB time=00:24:40.24 bitrate= 128.9kbits/s speed=30.1x    \n",
      "size=   23296kB time=00:24:54.69 bitrate= 127.7kbits/s speed=30.1x    \n",
      "size=   23552kB time=00:25:09.13 bitrate= 127.8kbits/s speed=30.1x    \n",
      "size=   23808kB time=00:25:22.41 bitrate= 128.1kbits/s speed=30.1x    \n",
      "size=   24064kB time=00:25:37.04 bitrate= 128.3kbits/s speed=30.1x    \n",
      "size=   24320kB time=00:25:51.81 bitrate= 128.4kbits/s speed=30.1x    \n",
      "size=   24576kB time=00:26:06.11 bitrate= 128.6kbits/s speed=  30x    \n",
      "size=   24832kB time=00:26:21.76 bitrate= 128.6kbits/s speed=30.1x    \n",
      "size=   25088kB time=00:26:35.32 bitrate= 128.8kbits/s speed=  30x    \n",
      "size=   25344kB time=00:26:52.88 bitrate= 128.7kbits/s speed=30.1x    \n",
      "size=   25600kB time=00:27:11.59 bitrate= 128.5kbits/s speed=30.1x    \n",
      "size=   25856kB time=00:27:25.52 bitrate= 128.7kbits/s speed=30.1x    \n",
      "size=   26112kB time=00:27:39.97 bitrate= 128.9kbits/s speed=30.1x    \n",
      "size=   26368kB time=00:27:55.94 bitrate= 128.9kbits/s speed=30.1x    \n",
      "size=   26368kB time=00:28:09.22 bitrate= 127.9kbits/s speed=30.1x    \n",
      "size=   26624kB time=00:28:23.57 bitrate= 128.0kbits/s speed=30.1x    \n",
      "size=   26880kB time=00:28:38.81 bitrate= 128.1kbits/s speed=30.1x    \n",
      "size=   27136kB time=00:28:52.60 bitrate= 128.3kbits/s speed=30.1x    \n",
      "size=   27392kB time=00:29:03.65 bitrate= 128.7kbits/s speed=  30x    \n",
      "size=   27648kB time=00:29:19.35 bitrate= 128.7kbits/s speed=  30x    \n",
      "size=   27904kB time=00:29:37.13 bitrate= 128.6kbits/s speed=  30x    \n",
      "size=   28160kB time=00:29:52.27 bitrate= 128.7kbits/s speed=  30x    \n",
      "size=   28416kB time=00:30:06.90 bitrate= 128.8kbits/s speed=  30x    \n",
      "size=   28416kB time=00:30:20.09 bitrate= 127.9kbits/s speed=  30x    \n",
      "size=   28928kB time=00:30:37.60 bitrate= 129.0kbits/s speed=  30x    \n",
      "size=   28928kB time=00:30:53.11 bitrate= 127.9kbits/s speed=30.1x    \n",
      "size=   29184kB time=00:31:08.16 bitrate= 128.0kbits/s speed=30.1x    \n",
      "size=   29440kB time=00:31:21.30 bitrate= 128.2kbits/s speed=  30x    \n",
      "size=   29696kB time=00:31:34.30 bitrate= 128.4kbits/s speed=  30x    \n",
      "size=   29952kB time=00:31:47.26 bitrate= 128.6kbits/s speed=  30x    \n",
      "size=   30208kB time=00:32:02.17 bitrate= 128.7kbits/s speed=  30x    \n",
      "size=   30464kB time=00:32:15.82 bitrate= 128.9kbits/s speed=29.9x    \n",
      "size=   30720kB time=00:32:30.77 bitrate= 129.0kbits/s speed=29.9x    \n",
      "size=   30720kB time=00:32:45.77 bitrate= 128.0kbits/s speed=29.9x    \n",
      "size=   30976kB time=00:32:59.29 bitrate= 128.2kbits/s speed=29.9x    \n",
      "size=   31232kB time=00:33:14.71 bitrate= 128.3kbits/s speed=29.9x    \n",
      "size=   31488kB time=00:33:31.33 bitrate= 128.2kbits/s speed=29.9x    \n",
      "size=   31744kB time=00:33:45.08 bitrate= 128.4kbits/s speed=29.9x    \n",
      "size=   32000kB time=00:33:59.10 bitrate= 128.6kbits/s speed=29.9x    \n",
      "size=   32256kB time=00:34:16.10 bitrate= 128.5kbits/s speed=29.9x    \n",
      "size=   32512kB time=00:34:33.28 bitrate= 128.5kbits/s speed=  30x    \n",
      "size=   32768kB time=00:34:50.37 bitrate= 128.4kbits/s speed=  30x    \n",
      "size=   33024kB time=00:35:06.44 bitrate= 128.4kbits/s speed=  30x    \n",
      "size=   33280kB time=00:35:21.63 bitrate= 128.5kbits/s speed=  30x    \n",
      "size=   33536kB time=00:35:37.09 bitrate= 128.6kbits/s speed=  30x    \n",
      "size=   33792kB time=00:35:53.16 bitrate= 128.6kbits/s speed=  30x    \n",
      "size=   34048kB time=00:36:11.78 bitrate= 128.4kbits/s speed=30.1x    \n",
      "size=   34304kB time=00:36:29.01 bitrate= 128.4kbits/s speed=30.1x    \n",
      "size=   34560kB time=00:36:46.29 bitrate= 128.3kbits/s speed=30.1x    \n",
      "size=   34816kB time=00:37:02.59 bitrate= 128.3kbits/s speed=30.2x    \n",
      "size=   35072kB time=00:37:15.96 bitrate= 128.5kbits/s speed=30.1x    \n",
      "size=   35328kB time=00:37:32.54 bitrate= 128.5kbits/s speed=30.2x    \n",
      "size=   35584kB time=00:37:46.01 bitrate= 128.6kbits/s speed=30.1x    \n",
      "size=   35840kB time=00:37:59.20 bitrate= 128.8kbits/s speed=30.1x    \n",
      "size=   35840kB time=00:38:11.41 bitrate= 128.1kbits/s speed=30.1x    \n",
      "size=   36096kB time=00:38:23.30 bitrate= 128.4kbits/s speed=  30x    \n",
      "size=   36352kB time=00:38:36.91 bitrate= 128.5kbits/s speed=  30x    \n",
      "size=   36608kB time=00:38:53.44 bitrate= 128.5kbits/s speed=  30x    \n",
      "size=   36864kB time=00:39:06.77 bitrate= 128.7kbits/s speed=  30x    \n",
      "size=   37120kB time=00:39:21.21 bitrate= 128.8kbits/s speed=  30x    \n",
      "size=   37376kB time=00:39:35.74 bitrate= 128.9kbits/s speed=  30x    \n",
      "size=   37632kB time=00:39:50.51 bitrate= 129.0kbits/s speed=  30x    \n",
      "size=   37888kB time=00:40:06.30 bitrate= 129.0kbits/s speed=  30x    \n",
      "size=   37888kB time=00:40:21.02 bitrate= 128.2kbits/s speed=  30x    \n",
      "size=   38144kB time=00:40:34.21 bitrate= 128.4kbits/s speed=  30x    \n",
      "size=   38400kB time=00:40:46.33 bitrate= 128.6kbits/s speed=29.9x    \n",
      "size=   38656kB time=00:41:00.54 bitrate= 128.7kbits/s speed=29.9x    \n",
      "size=   38912kB time=00:41:17.45 bitrate= 128.7kbits/s speed=29.9x    \n",
      "size=   39168kB time=00:41:29.80 bitrate= 128.9kbits/s speed=29.9x    \n",
      "size=   39424kB time=00:41:45.87 bitrate= 128.9kbits/s speed=29.9x    \n",
      "size=   39680kB time=00:42:00.27 bitrate= 129.0kbits/s speed=29.9x    \n",
      "size=   39680kB time=00:42:14.99 bitrate= 128.2kbits/s speed=29.9x    \n",
      "size=   39936kB time=00:42:30.41 bitrate= 128.3kbits/s speed=29.9x    \n",
      "size=   40192kB time=00:42:47.73 bitrate= 128.2kbits/s speed=  30x    \n",
      "size=   40448kB time=00:42:58.18 bitrate= 128.5kbits/s speed=29.9x    \n",
      "size=   40704kB time=00:43:10.58 bitrate= 128.7kbits/s speed=29.9x    \n",
      "size=   40960kB time=00:43:25.11 bitrate= 128.8kbits/s speed=29.9x    \n",
      "size=   41216kB time=00:43:41.41 bitrate= 128.8kbits/s speed=29.9x    \n",
      "size=   41472kB time=00:43:55.34 bitrate= 128.9kbits/s speed=29.9x    \n",
      "size=   41472kB time=00:44:10.11 bitrate= 128.2kbits/s speed=29.9x    \n",
      "size=   41728kB time=00:44:21.07 bitrate= 128.5kbits/s speed=29.8x    \n",
      "size=   41984kB time=00:44:35.70 bitrate= 128.5kbits/s speed=29.8x    \n",
      "size=   42240kB time=00:44:49.12 bitrate= 128.7kbits/s speed=29.8x    \n",
      "size=   42496kB time=00:45:02.12 bitrate= 128.8kbits/s speed=29.8x    \n",
      "size=   43198kB time=00:45:14.99 bitrate= 130.3kbits/s speed=29.8x    \n",
      "video:0kB audio:42740kB subtitle:0kB other streams:0kB global headers:0kB muxing overhead: 1.072060%\n",
      "[aac @ 0000025d79ea6680] Qavg: 653.922\n",
      "c:\\Users\\jaden\\OneDrive\\Coding\\Program\\Python 3.11\\Lib\\site-packages\\whisper\\transcribe.py:114: UserWarning: FP16 is not supported on CPU; using FP32 instead\n",
      "  warnings.warn(\"FP16 is not supported on CPU; using FP32 instead\")\n"
     ]
    },
    {
     "name": "stdout",
     "output_type": "stream",
     "text": [
      "An error occurred while reading the CSV file: [Errno 2] No such file or directory: 'spy.csv'\n"
     ]
    },
    {
     "ename": "TypeError",
     "evalue": "'NoneType' object is not subscriptable",
     "output_type": "error",
     "traceback": [
      "\u001b[1;31m---------------------------------------------------------------------------\u001b[0m",
      "\u001b[1;31mTypeError\u001b[0m                                 Traceback (most recent call last)",
      "Cell \u001b[1;32mIn[1], line 49\u001b[0m\n\u001b[0;32m     46\u001b[0m     plot_data(spy)\n\u001b[0;32m     48\u001b[0m \u001b[39mif\u001b[39;00m \u001b[39m__name__\u001b[39m \u001b[39m==\u001b[39m \u001b[39m\"\u001b[39m\u001b[39m__main__\u001b[39m\u001b[39m\"\u001b[39m:\n\u001b[1;32m---> 49\u001b[0m     main()\n",
      "Cell \u001b[1;32mIn[1], line 46\u001b[0m, in \u001b[0;36mmain\u001b[1;34m()\u001b[0m\n\u001b[0;32m     44\u001b[0m output \u001b[39m=\u001b[39m transcribe_audio()\n\u001b[0;32m     45\u001b[0m spy \u001b[39m=\u001b[39m process_transcription(output)\n\u001b[1;32m---> 46\u001b[0m plot_data(spy)\n",
      "Cell \u001b[1;32mIn[1], line 37\u001b[0m, in \u001b[0;36mplot_data\u001b[1;34m(df)\u001b[0m\n\u001b[0;32m     36\u001b[0m \u001b[39mdef\u001b[39;00m \u001b[39mplot_data\u001b[39m(df):\n\u001b[1;32m---> 37\u001b[0m     df\u001b[39m.\u001b[39mindex \u001b[39m=\u001b[39m pd\u001b[39m.\u001b[39mDatetimeIndex(df[\u001b[39m'\u001b[39;49m\u001b[39mdate\u001b[39;49m\u001b[39m'\u001b[39;49m])\n\u001b[0;32m     38\u001b[0m     mpf\u001b[39m.\u001b[39mplot(df[\u001b[39m'\u001b[39m\u001b[39m2022-11-02 14:36\u001b[39m\u001b[39m'\u001b[39m:\u001b[39m'\u001b[39m\u001b[39m2022-11-02 14:39\u001b[39m\u001b[39m'\u001b[39m],\u001b[39mtype\u001b[39m\u001b[39m=\u001b[39m\u001b[39m'\u001b[39m\u001b[39mcandle\u001b[39m\u001b[39m'\u001b[39m)\n",
      "\u001b[1;31mTypeError\u001b[0m: 'NoneType' object is not subscriptable"
     ]
    }
   ],
   "source": [
    "import datetime\n",
    "import pandas as pd\n",
    "import mplfinance as mpf\n",
    "from pytube import YouTube\n",
    "import whisper\n",
    "\n",
    "def download_youtube_audio(youtube_video_url):\n",
    "    youtube_video = YouTube(youtube_video_url)\n",
    "    streams = youtube_video.streams.filter(only_audio=True)\n",
    "    stream = streams.first()\n",
    "    stream.download(filename='fed_meeting.mp4')\n",
    "\n",
    "def trim_audio():\n",
    "    !ffmpeg -ss 378 -i fed_meeting.mp4 -t 2715 fed_meeting_trimmed.mp4\n",
    "\n",
    "def transcribe_audio():\n",
    "    model = whisper.load_model('base')\n",
    "    output = model.transcribe(\"fed_meeting_trimmed.mp4\")\n",
    "    return output\n",
    "\n",
    "def process_transcription(output):\n",
    "    try:\n",
    "        spy = pd.read_csv(\"spy.csv\")\n",
    "    except Exception as e:\n",
    "        print(\"An error occurred while reading the CSV file:\", e)\n",
    "        return None\n",
    "\n",
    "    for segment in output['segments']:\n",
    "       second = int(segment['start'])\n",
    "       second = second - (second % 5)\n",
    "       spy.loc[second / 5, 'text'] = segment['text']\n",
    "    spy['percent'] = ((spy['close'] - spy['open']) / spy['open']) * 100\n",
    "    return spy\n",
    "\n",
    "\n",
    "def plot_data(df):\n",
    "    df.index = pd.DatetimeIndex(df['date'])\n",
    "    mpf.plot(df['2022-11-02 14:36':'2022-11-02 14:39'],type='candle')\n",
    "\n",
    "def main():\n",
    "    youtube_video_url = \"https://www.youtube.com/watch?v=NT2H9iyd-ms\"\n",
    "    download_youtube_audio(youtube_video_url)\n",
    "    trim_audio()\n",
    "    output = transcribe_audio()\n",
    "    spy = process_transcription(output)\n",
    "    plot_data(spy)\n",
    "\n",
    "if __name__ == \"__main__\":\n",
    "    main()\n"
   ]
  },
  {
   "cell_type": "code",
   "execution_count": null,
   "metadata": {},
   "outputs": [],
   "source": [
    "import openai\n",
    "import requests\n",
    "import numpy as np\n",
    "from getpass import getpass\n",
    "\n",
    "def get_openai_api_key():\n",
    "    openai.api_key = getpass()\n",
    "    return openai.api_key\n",
    "\n",
    "def get_transcript(url):\n",
    "    response = requests.get(url)\n",
    "    transcript = response.text\n",
    "    return transcript\n",
    "\n",
    "def split_transcript_into_chunks(transcript, num_chunks):\n",
    "    words = transcript.split(\" \")\n",
    "    chunks = np.array_split(words, num_chunks)\n",
    "    return chunks\n",
    "\n",
    "def generate_summary(chunks):\n",
    "    summary_responses = []\n",
    "    for chunk in chunks:\n",
    "        sentences = ' '.join(list(chunk))\n",
    "        prompt = f\"{sentences}\\n\\ntl;dr:\"\n",
    "        response = openai.Completion.create(\n",
    "            engine=\"text-davinci-003\", \n",
    "            prompt=prompt,\n",
    "            temperature=0.3,\n",
    "            max_tokens=150,\n",
    "            top_p=1,\n",
    "            frequency_penalty=0,\n",
    "            presence_penalty=1\n",
    "        )\n",
    "        response_text = response[\"choices\"][0][\"text\"]\n",
    "        summary_responses.append(response_text)\n",
    "    return \"\".join(summary_responses)\n",
    "\n",
    "def main():\n",
    "    get_openai_api_key()\n",
    "    url = \"https://gist.githubusercontent.com/hackingthemarkets/e664894b65b31cbe8993e02d25d26768/raw/618afe09d07979cc72911ce79634ab5d2cc19a54/nvidia-earnings-call.txt\"\n",
    "    transcript = get_transcript(url)\n",
    "    chunks = split_transcript_into_chunks(transcript, 6)\n",
    "    summary = generate_summary(chunks)\n",
    "    print(\"Full Summary:\")\n",
    "    print(summary)\n",
    "\n",
    "if __name__ == \"__main__\":\n",
    "    main()\n"
   ]
  },
  {
   "cell_type": "code",
   "execution_count": null,
   "metadata": {},
   "outputs": [],
   "source": [
    "import openai\n",
    "import pandas as pd\n",
    "import numpy as np\n",
    "from getpass import getpass\n",
    "from openai.embeddings_utils import get_embedding, cosine_similarity\n",
    "from scipy import spatial\n",
    "\n",
    "def get_openai_api_key():\n",
    "    openai.api_key = getpass()\n",
    "    return openai.api_key\n",
    "\n",
    "def calculate_embeddings(df):\n",
    "    df['embedding'] = df['text'].apply(lambda x: get_embedding(x, engine='text-embedding-ada-002'))\n",
    "    df.to_csv('word_embeddings.csv')\n",
    "    return df\n",
    "\n",
    "def perform_semantic_search(df, search_term):\n",
    "    search_term_vector = get_embedding(search_term, engine=\"text-embedding-ada-002\")\n",
    "    df[\"similarities\"] = df['embedding'].apply(lambda x: cosine_similarity(x, search_term_vector))\n",
    "    return df.sort_values(\"similarities\", ascending=False)\n",
    "\n",
    "def calculate_cosine_similarity(v1, v2):\n",
    "    dot_product = np.dot(v1, v2)\n",
    "    magnitude = np.linalg.norm(v1) * np.linalg.norm(v2)\n",
    "    return dot_product / magnitude\n",
    "\n",
    "def main():\n",
    "    get_openai_api_key()\n",
    "    df = pd.read_csv('your_file.csv')  # replace 'your_file.csv' with your actual file\n",
    "    df = calculate_embeddings(df)\n",
    "    search_term = input('Enter a search term: ')\n",
    "    df = perform_semantic_search(df, search_term)\n",
    "    print(df.head(20))\n",
    "\n",
    "    v1 = np.array([1,2,3])\n",
    "    v2 = np.array([4,5,6])\n",
    "    cosine_similarity = calculate_cosine_similarity(v1, v2)\n",
    "    print(\"Cosine Similarity:\", cosine_similarity)\n",
    "\n",
    "if __name__ == \"__main__\":\n",
    "    main()\n"
   ]
  }
 ],
 "metadata": {
  "kernelspec": {
   "display_name": "Python 3",
   "language": "python",
   "name": "python3"
  },
  "language_info": {
   "codemirror_mode": {
    "name": "ipython",
    "version": 3
   },
   "file_extension": ".py",
   "mimetype": "text/x-python",
   "name": "python",
   "nbconvert_exporter": "python",
   "pygments_lexer": "ipython3",
   "version": "3.11.2"
  },
  "orig_nbformat": 4
 },
 "nbformat": 4,
 "nbformat_minor": 2
}

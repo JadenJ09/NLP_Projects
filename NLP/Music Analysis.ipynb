{
 "cells": [
  {
   "cell_type": "code",
   "execution_count": 1,
   "metadata": {},
   "outputs": [
    {
     "name": "stderr",
     "output_type": "stream",
     "text": [
      "Downloading file 'Kevin_MacLeod_-_P_I_Tchaikovsky_Dance_of_the_Sugar_Plum_Fairy.ogg' from 'https://librosa.org/data/audio/Kevin_MacLeod_-_P_I_Tchaikovsky_Dance_of_the_Sugar_Plum_Fairy.ogg' to 'C:\\Users\\jaden\\AppData\\Local\\librosa\\librosa\\Cache'.\n"
     ]
    },
    {
     "name": "stdout",
     "output_type": "stream",
     "text": [
      "Estimated tempo: 107.67 beats per minute\n"
     ]
    }
   ],
   "source": [
    "# Beat tracking example\n",
    "import librosa\n",
    "\n",
    "# 1. Get the file path to an included audio example\n",
    "filename = librosa.example('nutcracker')\n",
    "\n",
    "\n",
    "# 2. Load the audio as a waveform `y`\n",
    "#    Store the sampling rate as `sr`\n",
    "y, sr = librosa.load(filename)\n",
    "\n",
    "# 3. Run the default beat tracker\n",
    "tempo, beat_frames = librosa.beat.beat_track(y=y, sr=sr)\n",
    "\n",
    "print('Estimated tempo: {:.2f} beats per minute'.format(tempo))\n",
    "\n",
    "# 4. Convert the frame indices of beat events into timestamps\n",
    "beat_times = librosa.frames_to_time(beat_frames, sr=sr)"
   ]
  },
  {
   "cell_type": "code",
   "execution_count": null,
   "metadata": {},
   "outputs": [],
   "source": [
    "# Feature extraction example\n",
    "import numpy as np\n",
    "import librosa\n",
    "\n",
    "# Load the example clip\n",
    "y, sr = librosa.load(librosa.ex('nutcracker'))\n",
    "\n",
    "# Set the hop length; at 22050 Hz, 512 samples ~= 23ms\n",
    "hop_length = 512\n",
    "\n",
    "# Separate harmonics and percussives into two waveforms\n",
    "y_harmonic, y_percussive = librosa.effects.hpss(y)\n",
    "\n",
    "# Beat track on the percussive signal\n",
    "tempo, beat_frames = librosa.beat.beat_track(y=y_percussive,\n",
    "                                             sr=sr)\n",
    "\n",
    "# Compute MFCC features from the raw signal\n",
    "mfcc = librosa.feature.mfcc(y=y, sr=sr, hop_length=hop_length, n_mfcc=13)\n",
    "\n",
    "# And the first-order differences (delta features)\n",
    "mfcc_delta = librosa.feature.delta(mfcc)\n",
    "\n",
    "# Stack and synchronize between beat events\n",
    "# This time, we'll use the mean value (default) instead of median\n",
    "beat_mfcc_delta = librosa.util.sync(np.vstack([mfcc, mfcc_delta]),\n",
    "                                    beat_frames)\n",
    "\n",
    "# Compute chroma features from the harmonic signal\n",
    "chromagram = librosa.feature.chroma_cqt(y=y_harmonic,\n",
    "                                        sr=sr)\n",
    "\n",
    "# Aggregate chroma features between beat events\n",
    "# We'll use the median value of each feature between beat frames\n",
    "beat_chroma = librosa.util.sync(chromagram,\n",
    "                                beat_frames,\n",
    "                                aggregate=np.median)\n",
    "\n",
    "# Finally, stack all beat-synchronous features together\n",
    "beat_features = np.vstack([beat_chroma, beat_mfcc_delta])"
   ]
  },
  {
   "cell_type": "code",
   "execution_count": 2,
   "metadata": {},
   "outputs": [
    {
     "name": "stderr",
     "output_type": "stream",
     "text": [
      "C:\\Users\\jaden\\AppData\\Local\\Temp\\ipykernel_22984\\546142811.py:10: FutureWarning: Pass y=[0. 0. 0. ... 0. 0. 0.] as keyword args. From version 0.10 passing these as positional arguments will result in an error\n",
      "  S = librosa.feature.melspectrogram(y, sr=sr, n_mels=128)\n"
     ]
    },
    {
     "ename": "AttributeError",
     "evalue": "module 'librosa' has no attribute 'output'",
     "output_type": "error",
     "traceback": [
      "\u001b[1;31m---------------------------------------------------------------------------\u001b[0m",
      "\u001b[1;31mAttributeError\u001b[0m                            Traceback (most recent call last)",
      "Cell \u001b[1;32mIn [2], line 41\u001b[0m\n\u001b[0;32m     38\u001b[0m y \u001b[39m=\u001b[39m librosa\u001b[39m.\u001b[39mfeature\u001b[39m.\u001b[39minverse\u001b[39m.\u001b[39mmel_to_audio(S, sr\u001b[39m=\u001b[39msr)\n\u001b[0;32m     40\u001b[0m \u001b[39m# Save the audio file\u001b[39;00m\n\u001b[1;32m---> 41\u001b[0m librosa\u001b[39m.\u001b[39;49moutput\u001b[39m.\u001b[39mwrite_wav(\u001b[39m'\u001b[39m\u001b[39mdata/new_audio_file.wav\u001b[39m\u001b[39m'\u001b[39m, y, sr)\n",
      "\u001b[1;31mAttributeError\u001b[0m: module 'librosa' has no attribute 'output'"
     ]
    }
   ],
   "source": [
    "import librosa\n",
    "import librosa.display\n",
    "import numpy as np\n",
    "\n",
    "# Load the audio file\n",
    "audio_file = 'data/Vibe - Taeyang.mp3'\n",
    "y, sr = librosa.load(audio_file, sr=22050)\n",
    "\n",
    "# Compute the Mel spectrogram\n",
    "S = librosa.feature.melspectrogram(y, sr=sr, n_mels=128)\n",
    "log_S = librosa.power_to_db(S, ref=np.max)\n",
    "\n",
    "# Compute the MFCC features\n",
    "mfcc = librosa.feature.mfcc(S=log_S, n_mfcc=13)\n",
    "\n",
    "# Convert the MFCC features into a sequence of discrete notes\n",
    "notes = []\n",
    "for i in range(mfcc.shape[1]):\n",
    "    note = np.argmax(mfcc[:, i])\n",
    "    notes.append(note)\n",
    "\n",
    "# Normalize the notes to a range of 0-1\n",
    "notes = np.array(notes)\n",
    "notes = (notes - np.min(notes)) / (np.max(notes) - np.min(notes))\n",
    "\n",
    "# Modify the notes to create a new genre\n",
    "# ...\n",
    "\n",
    "# Convert the modified notes back into MFCC features\n",
    "notes = (notes * (np.max(notes) - np.min(notes))) + np.min(notes)\n",
    "mfcc = np.zeros((13, len(notes)))\n",
    "for i, note in enumerate(notes):\n",
    "    mfcc[int(note), i] = 1\n",
    "\n",
    "# Convert the MFCC features back into audio\n",
    "S = librosa.feature.inverse.mfcc_to_mel(mfcc)\n",
    "S = librosa.db_to_power(S)\n",
    "y = librosa.feature.inverse.mel_to_audio(S, sr=sr)\n",
    "\n",
    "# Save the audio file\n",
    "librosa.output.write_wav('data/new_audio_file.wav', y, sr)\n"
   ]
  },
  {
   "cell_type": "code",
   "execution_count": 4,
   "metadata": {},
   "outputs": [],
   "source": [
    "import librosa\n",
    "\n",
    "# Load the audio file\n",
    "audio_file = \"data/Vibe - Taeyang.mp3\"\n",
    "y, sr = librosa.load(audio_file)\n",
    "\n",
    "# Extract features from the audio\n",
    "chroma = librosa.feature.chroma_stft(y=y, sr=sr)\n",
    "mfcc = librosa.feature.mfcc(y=y, sr=sr)\n",
    "\n",
    "# Convert the features to a numeric format\n",
    "chroma_data = chroma.tolist()\n",
    "mfcc_data = mfcc.tolist()\n",
    "\n",
    "# Save the data to a file\n",
    "with open(\"data/chroma_data.txt\", \"w\") as f:\n",
    "    for row in chroma_data:\n",
    "        f.write(\" \".join([str(x) for x in row]) + \"\\n\")\n",
    "\n",
    "with open(\"data/mfcc_data.txt\", \"w\") as f:\n",
    "    for row in mfcc_data:\n",
    "        f.write(\" \".join([str(x) for x in row]) + \"\\n\")\n"
   ]
  }
 ],
 "metadata": {
  "kernelspec": {
   "display_name": "Python 3.11.0 64-bit",
   "language": "python",
   "name": "python3"
  },
  "language_info": {
   "codemirror_mode": {
    "name": "ipython",
    "version": 3
   },
   "file_extension": ".py",
   "mimetype": "text/x-python",
   "name": "python",
   "nbconvert_exporter": "python",
   "pygments_lexer": "ipython3",
   "version": "3.11.0"
  },
  "orig_nbformat": 4,
  "vscode": {
   "interpreter": {
    "hash": "363c5caaf8219a23b4a2b208dd8a057812e0c47ebcac0d117dde8dd6889aa845"
   }
  }
 },
 "nbformat": 4,
 "nbformat_minor": 2
}

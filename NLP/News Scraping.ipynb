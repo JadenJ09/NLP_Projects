{
 "cells": [
  {
   "cell_type": "code",
   "execution_count": 2,
   "metadata": {},
   "outputs": [],
   "source": [
    "import requests\n",
    "import csv\n",
    "from bs4 import BeautifulSoup\n",
    "\n",
    "url = 'https://www.bloomberg.com/news/articles'\n",
    "response = requests.get(url)\n",
    "\n",
    "soup = BeautifulSoup(response.content, 'html.parser')\n",
    "\n",
    "articles = soup.find_all('article', class_='bb-arc-article')\n",
    "\n",
    "with open('bloomberg_news.csv', mode='w', newline='') as csv_file:\n",
    "    fieldnames = ['title', 'summary', 'url', 'date']\n",
    "    writer = csv.DictWriter(csv_file, fieldnames=fieldnames)\n",
    "\n",
    "    writer.writeheader()\n",
    "\n",
    "    for article in articles:\n",
    "        title = article.find('h2', class_='lede-text-only__highlight').text.strip()\n",
    "        summary = article.find('div', class_='lede-text-only__highlight').text.strip()\n",
    "        url = article.find('a')['href']\n",
    "        date = article.find('time')['datetime']\n",
    "        writer.writerow({'title': title, 'summary': summary, 'url': url, 'date': date})\n"
   ]
  }
 ],
 "metadata": {
  "kernelspec": {
   "display_name": "Python 3",
   "language": "python",
   "name": "python3"
  },
  "language_info": {
   "codemirror_mode": {
    "name": "ipython",
    "version": 3
   },
   "file_extension": ".py",
   "mimetype": "text/x-python",
   "name": "python",
   "nbconvert_exporter": "python",
   "pygments_lexer": "ipython3",
   "version": "3.10.8"
  },
  "orig_nbformat": 4,
  "vscode": {
   "interpreter": {
    "hash": "2a12d51c86ae5a9e0728790e9f226ac055370ed14b27e8d69cccd17f51d83081"
   }
  }
 },
 "nbformat": 4,
 "nbformat_minor": 2
}

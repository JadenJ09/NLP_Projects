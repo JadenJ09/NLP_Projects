{
 "cells": [
  {
   "cell_type": "code",
   "execution_count": null,
   "metadata": {},
   "outputs": [],
   "source": [
    "# VIX Estimation by using NLP Method on Social Media\n"
   ]
  },
  {
   "attachments": {},
   "cell_type": "markdown",
   "metadata": {},
   "source": [
    "* VIX Estimation using NLP Method by Scraping Media Data on Social Media\n",
    "- (From the experience of Credit Card Churn Rate Analysis)\n",
    "\n",
    "\n",
    "- 1. Data scraping from media websites(Bloomberg, Yahoo Finance, CNN)\n",
    "- 2. Data preprocessing by its time series\n",
    "- 3. NLP methods\n",
    "- 4. Train Data vs VIX\n",
    "- 5. \n"
   ]
  },
  {
   "cell_type": "markdown",
   "metadata": {},
   "source": [
    "* What is the VIX?\n",
    "  The Chicago Board Options Exchange (CBOE) created the VIX (CBOE Volatility Index) to measure the 30-day expected volatility of the US stock market, sometimes called the “fear index”. The VIX is based on the prices of options on the S&P 500 Index and is calculated by aggregating weighted prices of the index’s call and put options over a wide range of strike prices.\n",
    "\n",
    "* Uses of the VIX\n",
    "  image.png"
   ]
  }
 ],
 "metadata": {
  "kernelspec": {
   "display_name": "Python 3.10.8 64-bit",
   "language": "python",
   "name": "python3"
  },
  "language_info": {
   "name": "python",
   "version": "3.10.8 (tags/v3.10.8:aaaf517, Oct 11 2022, 16:50:30) [MSC v.1933 64 bit (AMD64)]"
  },
  "orig_nbformat": 4,
  "vscode": {
   "interpreter": {
    "hash": "2a12d51c86ae5a9e0728790e9f226ac055370ed14b27e8d69cccd17f51d83081"
   }
  }
 },
 "nbformat": 4,
 "nbformat_minor": 2
}
